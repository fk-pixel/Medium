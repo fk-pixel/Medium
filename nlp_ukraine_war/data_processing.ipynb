{
  "nbformat": 4,
  "nbformat_minor": 0,
  "metadata": {
    "colab": {
      "provenance": []
    },
    "kernelspec": {
      "name": "python3",
      "display_name": "Python 3"
    },
    "language_info": {
      "name": "python"
    }
  },
  "cells": [
    {
      "cell_type": "code",
      "execution_count": null,
      "metadata": {
        "id": "J1mjSWlPPlqC"
      },
      "outputs": [],
      "source": []
    },
    {
      "cell_type": "markdown",
      "source": [
        "# Data Processing"
      ],
      "metadata": {
        "id": "GUC-tmx6UZyX"
      }
    },
    {
      "cell_type": "code",
      "source": [
        "from google.colab import drive\n",
        "drive.mount('/content/mydrive')"
      ],
      "metadata": {
        "colab": {
          "base_uri": "https://localhost:8080/"
        },
        "id": "TQVjyikkV1oR",
        "outputId": "7a05b14b-c99f-435b-d5f7-15f50a26e5fc"
      },
      "execution_count": 2,
      "outputs": [
        {
          "output_type": "stream",
          "name": "stdout",
          "text": [
            "Mounted at /content/mydrive\n"
          ]
        }
      ]
    },
    {
      "cell_type": "code",
      "source": [
        "import glob\n",
        "import re"
      ],
      "metadata": {
        "id": "K1a8JUB2igxN"
      },
      "execution_count": 4,
      "outputs": []
    },
    {
      "cell_type": "code",
      "source": [
        "dict = {}\n",
        "\n",
        "pattern = r'/content/mydrive/MyDrive/data/(\\w+).*'\n",
        "\n",
        "for filename in glob.glob('/content/mydrive/MyDrive/data/*.txt'):\n",
        "  name = re.search(pattern, filename)\n",
        "  with open(filename, 'r') as text:\n",
        "    text = text.read()\n",
        "    text = text.split()\n",
        "    text = text[:5500]\n",
        "    splicing_text = ' '.join(text)\n",
        "    dict[name[1]] = splicing_text"
      ],
      "metadata": {
        "id": "QAYFjnE8ZRft"
      },
      "execution_count": 5,
      "outputs": []
    },
    {
      "cell_type": "code",
      "source": [
        "def all_text(text):\n",
        "    '''Takes a list of text and combines them into one large chunk of text.'''\n",
        "    all_text = ''.join(str(text))\n",
        "    return all_text"
      ],
      "metadata": {
        "id": "iSRwV2SyimDE"
      },
      "execution_count": 6,
      "outputs": []
    },
    {
      "cell_type": "code",
      "source": [
        "all_data = {key: [all_text(value)] for (key, value) in dict.items()}\n"
      ],
      "metadata": {
        "id": "9yjnW69Cin01"
      },
      "execution_count": 7,
      "outputs": []
    },
    {
      "cell_type": "code",
      "source": [
        "import pandas as pd\n",
        "pd.set_option('max_colwidth', 150)\n",
        "\n",
        "df = pd.DataFrame.from_dict(all_data).transpose()\n",
        "\n",
        "df.columns = ['statements']\n",
        "\n",
        "df['first_length'] = df['statements'].apply(len)\n",
        "\n",
        "df = df.sort_index()\n",
        "\n",
        "df"
      ],
      "metadata": {
        "colab": {
          "base_uri": "https://localhost:8080/",
          "height": 490
        },
        "id": "Pz8GwuG0iqj7",
        "outputId": "5b71ee2d-0cec-42ad-fe48-89441c25ca28"
      },
      "execution_count": 8,
      "outputs": [
        {
          "output_type": "execute_result",
          "data": {
            "text/plain": [
              "                                                                                                                                                     statements  \\\n",
              "biden     Thank you, thank you, thank you. Please, if you have a seat, be seated. (Laughter.) If you don’t, come up on stage. Thank you very much. It’s a gr...   \n",
              "erdogan   Judy, first of all, who has the upper hand, Russia or Ukraine? As a leader, I'm not willing to consider this. All we want to do and what we want t...   \n",
              "macron    We have just taken a historic decision with the sixth sanctions package with an embargo on 90% of Russian oil. We want to increase financial and m...   \n",
              "putin     We will defend our land with all the powers and means at our disposal. In 1991, at Belovezh Forest, without asking the will of common citizens, re...   \n",
              "scholz    Mr. President, Secretary-General, Fellow delegates, Ladies and gentlemen, It is with humility and deep respect that I am addressing you today – bo...   \n",
              "zelensky  Ukrainians! The morning is tough. We are dealing with terrorists. Dozens of missiles, Iranian \"Shaheds\". They have two targets. Energy facilities ...   \n",
              "\n",
              "          first_length  \n",
              "biden            31376  \n",
              "erdogan          32410  \n",
              "macron           32203  \n",
              "putin            32901  \n",
              "scholz           30501  \n",
              "zelensky         30924  "
            ],
            "text/html": [
              "\n",
              "  <div id=\"df-b8aff6c2-9bd5-452b-87d2-75177987b626\">\n",
              "    <div class=\"colab-df-container\">\n",
              "      <div>\n",
              "<style scoped>\n",
              "    .dataframe tbody tr th:only-of-type {\n",
              "        vertical-align: middle;\n",
              "    }\n",
              "\n",
              "    .dataframe tbody tr th {\n",
              "        vertical-align: top;\n",
              "    }\n",
              "\n",
              "    .dataframe thead th {\n",
              "        text-align: right;\n",
              "    }\n",
              "</style>\n",
              "<table border=\"1\" class=\"dataframe\">\n",
              "  <thead>\n",
              "    <tr style=\"text-align: right;\">\n",
              "      <th></th>\n",
              "      <th>statements</th>\n",
              "      <th>first_length</th>\n",
              "    </tr>\n",
              "  </thead>\n",
              "  <tbody>\n",
              "    <tr>\n",
              "      <th>biden</th>\n",
              "      <td>Thank you, thank you, thank you. Please, if you have a seat, be seated. (Laughter.) If you don’t, come up on stage. Thank you very much. It’s a gr...</td>\n",
              "      <td>31376</td>\n",
              "    </tr>\n",
              "    <tr>\n",
              "      <th>erdogan</th>\n",
              "      <td>Judy, first of all, who has the upper hand, Russia or Ukraine? As a leader, I'm not willing to consider this. All we want to do and what we want t...</td>\n",
              "      <td>32410</td>\n",
              "    </tr>\n",
              "    <tr>\n",
              "      <th>macron</th>\n",
              "      <td>We have just taken a historic decision with the sixth sanctions package with an embargo on 90% of Russian oil. We want to increase financial and m...</td>\n",
              "      <td>32203</td>\n",
              "    </tr>\n",
              "    <tr>\n",
              "      <th>putin</th>\n",
              "      <td>We will defend our land with all the powers and means at our disposal. In 1991, at Belovezh Forest, without asking the will of common citizens, re...</td>\n",
              "      <td>32901</td>\n",
              "    </tr>\n",
              "    <tr>\n",
              "      <th>scholz</th>\n",
              "      <td>Mr. President, Secretary-General, Fellow delegates, Ladies and gentlemen, It is with humility and deep respect that I am addressing you today – bo...</td>\n",
              "      <td>30501</td>\n",
              "    </tr>\n",
              "    <tr>\n",
              "      <th>zelensky</th>\n",
              "      <td>Ukrainians! The morning is tough. We are dealing with terrorists. Dozens of missiles, Iranian \"Shaheds\". They have two targets. Energy facilities ...</td>\n",
              "      <td>30924</td>\n",
              "    </tr>\n",
              "  </tbody>\n",
              "</table>\n",
              "</div>\n",
              "      <button class=\"colab-df-convert\" onclick=\"convertToInteractive('df-b8aff6c2-9bd5-452b-87d2-75177987b626')\"\n",
              "              title=\"Convert this dataframe to an interactive table.\"\n",
              "              style=\"display:none;\">\n",
              "        \n",
              "  <svg xmlns=\"http://www.w3.org/2000/svg\" height=\"24px\"viewBox=\"0 0 24 24\"\n",
              "       width=\"24px\">\n",
              "    <path d=\"M0 0h24v24H0V0z\" fill=\"none\"/>\n",
              "    <path d=\"M18.56 5.44l.94 2.06.94-2.06 2.06-.94-2.06-.94-.94-2.06-.94 2.06-2.06.94zm-11 1L8.5 8.5l.94-2.06 2.06-.94-2.06-.94L8.5 2.5l-.94 2.06-2.06.94zm10 10l.94 2.06.94-2.06 2.06-.94-2.06-.94-.94-2.06-.94 2.06-2.06.94z\"/><path d=\"M17.41 7.96l-1.37-1.37c-.4-.4-.92-.59-1.43-.59-.52 0-1.04.2-1.43.59L10.3 9.45l-7.72 7.72c-.78.78-.78 2.05 0 2.83L4 21.41c.39.39.9.59 1.41.59.51 0 1.02-.2 1.41-.59l7.78-7.78 2.81-2.81c.8-.78.8-2.07 0-2.86zM5.41 20L4 18.59l7.72-7.72 1.47 1.35L5.41 20z\"/>\n",
              "  </svg>\n",
              "      </button>\n",
              "      \n",
              "  <style>\n",
              "    .colab-df-container {\n",
              "      display:flex;\n",
              "      flex-wrap:wrap;\n",
              "      gap: 12px;\n",
              "    }\n",
              "\n",
              "    .colab-df-convert {\n",
              "      background-color: #E8F0FE;\n",
              "      border: none;\n",
              "      border-radius: 50%;\n",
              "      cursor: pointer;\n",
              "      display: none;\n",
              "      fill: #1967D2;\n",
              "      height: 32px;\n",
              "      padding: 0 0 0 0;\n",
              "      width: 32px;\n",
              "    }\n",
              "\n",
              "    .colab-df-convert:hover {\n",
              "      background-color: #E2EBFA;\n",
              "      box-shadow: 0px 1px 2px rgba(60, 64, 67, 0.3), 0px 1px 3px 1px rgba(60, 64, 67, 0.15);\n",
              "      fill: #174EA6;\n",
              "    }\n",
              "\n",
              "    [theme=dark] .colab-df-convert {\n",
              "      background-color: #3B4455;\n",
              "      fill: #D2E3FC;\n",
              "    }\n",
              "\n",
              "    [theme=dark] .colab-df-convert:hover {\n",
              "      background-color: #434B5C;\n",
              "      box-shadow: 0px 1px 3px 1px rgba(0, 0, 0, 0.15);\n",
              "      filter: drop-shadow(0px 1px 2px rgba(0, 0, 0, 0.3));\n",
              "      fill: #FFFFFF;\n",
              "    }\n",
              "  </style>\n",
              "\n",
              "      <script>\n",
              "        const buttonEl =\n",
              "          document.querySelector('#df-b8aff6c2-9bd5-452b-87d2-75177987b626 button.colab-df-convert');\n",
              "        buttonEl.style.display =\n",
              "          google.colab.kernel.accessAllowed ? 'block' : 'none';\n",
              "\n",
              "        async function convertToInteractive(key) {\n",
              "          const element = document.querySelector('#df-b8aff6c2-9bd5-452b-87d2-75177987b626');\n",
              "          const dataTable =\n",
              "            await google.colab.kernel.invokeFunction('convertToInteractive',\n",
              "                                                     [key], {});\n",
              "          if (!dataTable) return;\n",
              "\n",
              "          const docLinkHtml = 'Like what you see? Visit the ' +\n",
              "            '<a target=\"_blank\" href=https://colab.research.google.com/notebooks/data_table.ipynb>data table notebook</a>'\n",
              "            + ' to learn more about interactive tables.';\n",
              "          element.innerHTML = '';\n",
              "          dataTable['output_type'] = 'display_data';\n",
              "          await google.colab.output.renderOutput(dataTable, element);\n",
              "          const docLink = document.createElement('div');\n",
              "          docLink.innerHTML = docLinkHtml;\n",
              "          element.appendChild(docLink);\n",
              "        }\n",
              "      </script>\n",
              "    </div>\n",
              "  </div>\n",
              "  "
            ]
          },
          "metadata": {},
          "execution_count": 8
        }
      ]
    },
    {
      "cell_type": "code",
      "source": [
        "import csv\n",
        "df.to_csv(\"all_text.csv\")"
      ],
      "metadata": {
        "id": "LYctFtJsiRQM"
      },
      "execution_count": 9,
      "outputs": []
    },
    {
      "cell_type": "code",
      "source": [],
      "metadata": {
        "id": "lxa2NEI4ita1"
      },
      "execution_count": null,
      "outputs": []
    }
  ]
}