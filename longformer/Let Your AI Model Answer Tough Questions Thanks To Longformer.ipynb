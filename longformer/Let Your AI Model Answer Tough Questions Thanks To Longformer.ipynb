{
 "cells": [
  {
   "cell_type": "code",
   "execution_count": null,
   "metadata": {},
   "outputs": [],
   "source": [
    "# Setup the libraries\n",
    "pip install torchvision\n",
    "pip install nlp\n",
    "pip install transformers"
   ]
  },
  {
   "cell_type": "code",
   "execution_count": 4,
   "metadata": {},
   "outputs": [],
   "source": [
    "# Libraries we need\n",
    "import torch\n",
    "import nlp\n",
    "from transformers import LongformerTokenizerFast\n",
    "from transformers import LongformerTokenizer, LongformerForQuestionAnswering"
   ]
  },
  {
   "cell_type": "code",
   "execution_count": 3,
   "metadata": {},
   "outputs": [],
   "source": [
    "# Create the tokenizer with pre-trained model\n",
    "tokenizer = LongformerTokenizerFast.from_pretrained('allenai/longformer-base-4096')"
   ]
  },
  {
   "cell_type": "code",
   "execution_count": 9,
   "metadata": {},
   "outputs": [],
   "source": [
    "# Create a model\n",
    "model = LongformerForQuestionAnswering.from_pretrained(\"valhalla/longformer-base-4096-finetuned-squadv1\")"
   ]
  },
  {
   "cell_type": "code",
   "execution_count": 10,
   "metadata": {},
   "outputs": [],
   "source": [
    "# Crate funktion for longformer\n",
    "def longformer(text,question):\n",
    "    encoding = tokenizer.encode_plus(question, text, return_tensors=\"pt\")\n",
    "    input_ids = encoding[\"input_ids\"]\n",
    "\n",
    "    # default is local attention everywhere\n",
    "    # the forward method will automatically set global attention on question tokens\n",
    "    attention_mask = encoding[\"attention_mask\"]\n",
    "\n",
    "    start_scores, end_scores = model(input_ids, attention_mask=attention_mask, return_dict=False)\n",
    "    all_tokens = tokenizer.convert_ids_to_tokens(input_ids[0].tolist())\n",
    "\n",
    "    answer_tokens = all_tokens[torch.argmax(start_scores) :torch.argmax(end_scores)+1]\n",
    "    answer = tokenizer.decode(tokenizer.convert_tokens_to_ids(answer_tokens))\n",
    "    return answer"
   ]
  },
  {
   "cell_type": "code",
   "execution_count": 11,
   "metadata": {},
   "outputs": [],
   "source": [
    "text = '''“We are in the third wave and we are seeing exponential growth,” underscored Chancellor Angela Merkel in her government statement. The vaccination drive, however, gives us the chance to beat the virus. On Thursday, the Chancellor spoke in the German Bundestag about the current COVID-19 situation in Germany and this week’s European Council meeting.\n",
    "\n",
    "In view of rising numbers of new cases, intensive care doctors are extremely concerned, reported Angela Merkel. The increase in new infections also means more patients in intensive care. “And now it will no longer be the 90 year olds in hospital. It will be the 50, 60 and 70 year olds. And these are people who can still expect to live for a long time,” said the Chancellor in her government statement. Experts predict that 10 per cent of them will suffer long-term problems. “It is worthwhile fighting for every single person, to ensure they do not become infected,” she declared.\n",
    "\n",
    "Vaccinations are the way out of the crisis\n",
    "Gradually, more vaccine is becoming available in Germany, said Angela Merkel. She remarked, critically, that it is not right that the vaccine doses currently available are not used if appointments are not kept.\n",
    "\n",
    "Until we see the impact of vaccinations, testing is the vital bridge. “The more we test, the fewer restrictions we need,” said the Chancellor. She called on everyone in Germany to make use of the free testing services available. She also called on companies to provide sufficient tests for their staff. Otherwise regulatory measures will need to be taken in the field of occupational health and safety. She announced that the Cabinet would be deciding on this in mid-April.\n",
    "\n",
    "Finally, Angela Merkel stressed that nothing will be achieved if we only look at the negative factors. It will take another few months, but there is light at the end of the tunnel. “We will beat the virus.” Now we need to join forces and look forward with confidence, “even if the situation is still difficult now.” The Chancellor said, “That is what I wish for myself and for everyone in this country.”\n",
    "\n",
    "Rising case numbers throughout Europe\n",
    "Since the government statement was given just before the meeting of the European Council, the Chancellor pointed out that the numbers of new cases are rising rapidly not only in Germany, but everywhere in Europe. This is not just a German phenomenon. That is why the virtual meeting of the European Council will look at ways of combating the pandemic.\n",
    "\n",
    "The Chancellor defended the joint European approach to the pandemic. “In spite of all difficulties, I believe that we have seen in the pandemic yet again that it is good that we have the European Union,” said Angela Merkel. \n",
    "\n",
    "An indispensable contribution to tackling the pandemic together\n",
    "It was right, said the Chancellor, that during Germany’s Presidency of the Council of the European Union, the stage was set for important joint European action. The Chancellor sees the joint borrowing in the EU for the recovery fund as a one-off measure to tackle the pandemic. “The recovery fund is a one-off instrument that is closely tied to a specific purpose and a specific time scale.”\n",
    "\n",
    "The member states are thus setting the scene for “digital, climate-friendly and thus resilient future growth in Europe”. \n",
    "\n",
    "Consultations about vaccination certificate\n",
    "The European Council will today discuss a “digital green certificate”, which is to be available by summer. In line with a proposal of the European Commission, the certificate is to be used to prove that a person has been vaccinated against COVID-19, has tested negative or has recovered from COVID-19.  The work will still take a few weeks said the Chancellor. The problem is not the technical side, but the question as to what rights certificate holders should have. \n",
    "\n",
    "The EU needs to be more independent in vaccine production\n",
    "The Chancellor made it clear that the European Union must become more independent in terms of vaccine production. The problem is less about how much was ordered but about “how much can be produced at the moment inside Europe”. The United Kingdom is manufacturing for the United Kingdom. The USA is not exporting vaccines. That means that for a longer period we will be dependent on what is produced in Europe. That will apply beyond the end of the year.\n",
    "\n",
    "The Chancellor also called for vaccine supplies “for the world”. If we cannot supply the world we will face more and more new mutations of the virus.\n",
    "\n",
    "'''"
   ]
  },
  {
   "cell_type": "code",
   "execution_count": 12,
   "metadata": {},
   "outputs": [],
   "source": [
    "# Question 1\n",
    "question1='What did Angela Merkel defended?'"
   ]
  },
  {
   "cell_type": "code",
   "execution_count": 13,
   "metadata": {},
   "outputs": [
    {
     "data": {
      "text/plain": [
       "' the joint European approach to the pandemic'"
      ]
     },
     "execution_count": 13,
     "metadata": {},
     "output_type": "execute_result"
    }
   ],
   "source": [
    "longformer(text,question1)"
   ]
  },
  {
   "cell_type": "code",
   "execution_count": 14,
   "metadata": {},
   "outputs": [],
   "source": [
    "# Question 2\n",
    "question2='What EU member states are doing in the pandemic?'"
   ]
  },
  {
   "cell_type": "code",
   "execution_count": 15,
   "metadata": {},
   "outputs": [
    {
     "data": {
      "text/plain": [
       "' vaccination drive'"
      ]
     },
     "execution_count": 15,
     "metadata": {},
     "output_type": "execute_result"
    }
   ],
   "source": [
    "longformer(text,question2)"
   ]
  },
  {
   "cell_type": "code",
   "execution_count": 16,
   "metadata": {},
   "outputs": [],
   "source": [
    "# Question 3\n",
    "question3='What did Merkel call for the world?'"
   ]
  },
  {
   "cell_type": "code",
   "execution_count": 17,
   "metadata": {},
   "outputs": [
    {
     "data": {
      "text/plain": [
       "' vaccine supplies'"
      ]
     },
     "execution_count": 17,
     "metadata": {},
     "output_type": "execute_result"
    }
   ],
   "source": [
    "longformer(text,question3)"
   ]
  },
  {
   "cell_type": "code",
   "execution_count": 18,
   "metadata": {},
   "outputs": [],
   "source": [
    "# Question 4\n",
    "question4='What is the US not doing exactly?'"
   ]
  },
  {
   "cell_type": "code",
   "execution_count": 19,
   "metadata": {},
   "outputs": [
    {
     "data": {
      "text/plain": [
       "' exporting vaccines'"
      ]
     },
     "execution_count": 19,
     "metadata": {},
     "output_type": "execute_result"
    }
   ],
   "source": [
    "longformer(text,question4)"
   ]
  },
  {
   "cell_type": "code",
   "execution_count": null,
   "metadata": {},
   "outputs": [],
   "source": []
  }
 ],
 "metadata": {
  "kernelspec": {
   "display_name": "Python 3",
   "language": "python",
   "name": "python3"
  },
  "language_info": {
   "codemirror_mode": {
    "name": "ipython",
    "version": 3
   },
   "file_extension": ".py",
   "mimetype": "text/x-python",
   "name": "python",
   "nbconvert_exporter": "python",
   "pygments_lexer": "ipython3",
   "version": "3.8.5"
  }
 },
 "nbformat": 4,
 "nbformat_minor": 4
}
